{
 "cells": [
  {
   "cell_type": "markdown",
   "metadata": {},
   "source": [
    "# Data Loading"
   ]
  },
  {
   "cell_type": "code",
   "execution_count": 1,
   "metadata": {},
   "outputs": [],
   "source": [
    "import pandas as pd\n",
    "\n",
    "bank = pd.read_csv(r'C:\\Users\\HP\\Desktop\\Intern\\MISL-Intern\\bank.csv')"
   ]
  },
  {
   "cell_type": "code",
   "execution_count": 2,
   "metadata": {},
   "outputs": [
    {
     "data": {
      "text/html": [
       "<div>\n",
       "<style scoped>\n",
       "    .dataframe tbody tr th:only-of-type {\n",
       "        vertical-align: middle;\n",
       "    }\n",
       "\n",
       "    .dataframe tbody tr th {\n",
       "        vertical-align: top;\n",
       "    }\n",
       "\n",
       "    .dataframe thead th {\n",
       "        text-align: right;\n",
       "    }\n",
       "</style>\n",
       "<table border=\"1\" class=\"dataframe\">\n",
       "  <thead>\n",
       "    <tr style=\"text-align: right;\">\n",
       "      <th></th>\n",
       "      <th>Account No</th>\n",
       "      <th>DATE</th>\n",
       "      <th>TRANSACTION DETAILS</th>\n",
       "      <th>CHQ.NO.</th>\n",
       "      <th>VALUE DATE</th>\n",
       "      <th>WITHDRAWAL AMT</th>\n",
       "      <th>DEPOSIT AMT</th>\n",
       "      <th>BALANCE AMT</th>\n",
       "      <th>.</th>\n",
       "    </tr>\n",
       "  </thead>\n",
       "  <tbody>\n",
       "    <tr>\n",
       "      <th>0</th>\n",
       "      <td>409000611074'</td>\n",
       "      <td>2017-06-29</td>\n",
       "      <td>TRF FROM  Indiaforensic SERVICES</td>\n",
       "      <td>NaN</td>\n",
       "      <td>2017-06-29</td>\n",
       "      <td>NaN</td>\n",
       "      <td>1000000.0</td>\n",
       "      <td>1000000.0</td>\n",
       "      <td>.</td>\n",
       "    </tr>\n",
       "    <tr>\n",
       "      <th>1</th>\n",
       "      <td>409000611074'</td>\n",
       "      <td>2017-07-05</td>\n",
       "      <td>TRF FROM  Indiaforensic SERVICES</td>\n",
       "      <td>NaN</td>\n",
       "      <td>2017-07-05</td>\n",
       "      <td>NaN</td>\n",
       "      <td>1000000.0</td>\n",
       "      <td>2000000.0</td>\n",
       "      <td>.</td>\n",
       "    </tr>\n",
       "    <tr>\n",
       "      <th>2</th>\n",
       "      <td>409000611074'</td>\n",
       "      <td>2017-07-18</td>\n",
       "      <td>FDRL/INTERNAL FUND TRANSFE</td>\n",
       "      <td>NaN</td>\n",
       "      <td>2017-07-18</td>\n",
       "      <td>NaN</td>\n",
       "      <td>500000.0</td>\n",
       "      <td>2500000.0</td>\n",
       "      <td>.</td>\n",
       "    </tr>\n",
       "    <tr>\n",
       "      <th>3</th>\n",
       "      <td>409000611074'</td>\n",
       "      <td>2017-08-01</td>\n",
       "      <td>TRF FRM  Indiaforensic SERVICES</td>\n",
       "      <td>NaN</td>\n",
       "      <td>2017-08-01</td>\n",
       "      <td>NaN</td>\n",
       "      <td>3000000.0</td>\n",
       "      <td>5500000.0</td>\n",
       "      <td>.</td>\n",
       "    </tr>\n",
       "    <tr>\n",
       "      <th>4</th>\n",
       "      <td>409000611074'</td>\n",
       "      <td>2017-08-16</td>\n",
       "      <td>FDRL/INTERNAL FUND TRANSFE</td>\n",
       "      <td>NaN</td>\n",
       "      <td>2017-08-16</td>\n",
       "      <td>NaN</td>\n",
       "      <td>500000.0</td>\n",
       "      <td>6000000.0</td>\n",
       "      <td>.</td>\n",
       "    </tr>\n",
       "  </tbody>\n",
       "</table>\n",
       "</div>"
      ],
      "text/plain": [
       "      Account No        DATE               TRANSACTION DETAILS  CHQ.NO.  \\\n",
       "0  409000611074'  2017-06-29  TRF FROM  Indiaforensic SERVICES      NaN   \n",
       "1  409000611074'  2017-07-05  TRF FROM  Indiaforensic SERVICES      NaN   \n",
       "2  409000611074'  2017-07-18        FDRL/INTERNAL FUND TRANSFE      NaN   \n",
       "3  409000611074'  2017-08-01   TRF FRM  Indiaforensic SERVICES      NaN   \n",
       "4  409000611074'  2017-08-16        FDRL/INTERNAL FUND TRANSFE      NaN   \n",
       "\n",
       "   VALUE DATE  WITHDRAWAL AMT  DEPOSIT AMT  BALANCE AMT  .  \n",
       "0  2017-06-29             NaN    1000000.0    1000000.0  .  \n",
       "1  2017-07-05             NaN    1000000.0    2000000.0  .  \n",
       "2  2017-07-18             NaN     500000.0    2500000.0  .  \n",
       "3  2017-08-01             NaN    3000000.0    5500000.0  .  \n",
       "4  2017-08-16             NaN     500000.0    6000000.0  .  "
      ]
     },
     "execution_count": 2,
     "metadata": {},
     "output_type": "execute_result"
    }
   ],
   "source": [
    "bank.head()"
   ]
  },
  {
   "cell_type": "code",
   "execution_count": 3,
   "metadata": {},
   "outputs": [
    {
     "name": "stdout",
     "output_type": "stream",
     "text": [
      "<class 'pandas.core.frame.DataFrame'>\n",
      "RangeIndex: 116201 entries, 0 to 116200\n",
      "Data columns (total 9 columns):\n",
      " #   Column               Non-Null Count   Dtype  \n",
      "---  ------               --------------   -----  \n",
      " 0   Account No           116201 non-null  object \n",
      " 1   DATE                 116201 non-null  object \n",
      " 2   TRANSACTION DETAILS  113702 non-null  object \n",
      " 3   CHQ.NO.              905 non-null     float64\n",
      " 4   VALUE DATE           116201 non-null  object \n",
      " 5   WITHDRAWAL AMT       53549 non-null   float64\n",
      " 6   DEPOSIT AMT          62652 non-null   float64\n",
      " 7   BALANCE AMT          116201 non-null  float64\n",
      " 8   .                    116201 non-null  object \n",
      "dtypes: float64(4), object(5)\n",
      "memory usage: 8.0+ MB\n"
     ]
    }
   ],
   "source": [
    "bank.info()"
   ]
  },
  {
   "cell_type": "code",
   "execution_count": 4,
   "metadata": {},
   "outputs": [
    {
     "data": {
      "text/html": [
       "<div>\n",
       "<style scoped>\n",
       "    .dataframe tbody tr th:only-of-type {\n",
       "        vertical-align: middle;\n",
       "    }\n",
       "\n",
       "    .dataframe tbody tr th {\n",
       "        vertical-align: top;\n",
       "    }\n",
       "\n",
       "    .dataframe thead th {\n",
       "        text-align: right;\n",
       "    }\n",
       "</style>\n",
       "<table border=\"1\" class=\"dataframe\">\n",
       "  <thead>\n",
       "    <tr style=\"text-align: right;\">\n",
       "      <th></th>\n",
       "      <th>CHQ.NO.</th>\n",
       "      <th>WITHDRAWAL AMT</th>\n",
       "      <th>DEPOSIT AMT</th>\n",
       "      <th>BALANCE AMT</th>\n",
       "    </tr>\n",
       "  </thead>\n",
       "  <tbody>\n",
       "    <tr>\n",
       "      <th>count</th>\n",
       "      <td>905.000000</td>\n",
       "      <td>5.354900e+04</td>\n",
       "      <td>6.265200e+04</td>\n",
       "      <td>1.162010e+05</td>\n",
       "    </tr>\n",
       "    <tr>\n",
       "      <th>mean</th>\n",
       "      <td>791614.503867</td>\n",
       "      <td>4.489190e+06</td>\n",
       "      <td>3.806586e+06</td>\n",
       "      <td>-1.404852e+09</td>\n",
       "    </tr>\n",
       "    <tr>\n",
       "      <th>std</th>\n",
       "      <td>151205.932910</td>\n",
       "      <td>1.084850e+07</td>\n",
       "      <td>8.683093e+06</td>\n",
       "      <td>5.348202e+08</td>\n",
       "    </tr>\n",
       "    <tr>\n",
       "      <th>min</th>\n",
       "      <td>1.000000</td>\n",
       "      <td>1.000000e-02</td>\n",
       "      <td>1.000000e-02</td>\n",
       "      <td>-2.045201e+09</td>\n",
       "    </tr>\n",
       "    <tr>\n",
       "      <th>25%</th>\n",
       "      <td>704231.000000</td>\n",
       "      <td>3.000000e+03</td>\n",
       "      <td>9.900000e+04</td>\n",
       "      <td>-1.690383e+09</td>\n",
       "    </tr>\n",
       "    <tr>\n",
       "      <th>50%</th>\n",
       "      <td>873812.000000</td>\n",
       "      <td>4.708300e+04</td>\n",
       "      <td>4.265000e+05</td>\n",
       "      <td>-1.661395e+09</td>\n",
       "    </tr>\n",
       "    <tr>\n",
       "      <th>75%</th>\n",
       "      <td>874167.000000</td>\n",
       "      <td>5.000000e+06</td>\n",
       "      <td>4.746411e+06</td>\n",
       "      <td>-1.236888e+09</td>\n",
       "    </tr>\n",
       "    <tr>\n",
       "      <th>max</th>\n",
       "      <td>874525.000000</td>\n",
       "      <td>4.594475e+08</td>\n",
       "      <td>5.448000e+08</td>\n",
       "      <td>8.500000e+06</td>\n",
       "    </tr>\n",
       "  </tbody>\n",
       "</table>\n",
       "</div>"
      ],
      "text/plain": [
       "             CHQ.NO.  WITHDRAWAL AMT   DEPOSIT AMT   BALANCE AMT\n",
       "count     905.000000    5.354900e+04  6.265200e+04  1.162010e+05\n",
       "mean   791614.503867    4.489190e+06  3.806586e+06 -1.404852e+09\n",
       "std    151205.932910    1.084850e+07  8.683093e+06  5.348202e+08\n",
       "min         1.000000    1.000000e-02  1.000000e-02 -2.045201e+09\n",
       "25%    704231.000000    3.000000e+03  9.900000e+04 -1.690383e+09\n",
       "50%    873812.000000    4.708300e+04  4.265000e+05 -1.661395e+09\n",
       "75%    874167.000000    5.000000e+06  4.746411e+06 -1.236888e+09\n",
       "max    874525.000000    4.594475e+08  5.448000e+08  8.500000e+06"
      ]
     },
     "execution_count": 4,
     "metadata": {},
     "output_type": "execute_result"
    }
   ],
   "source": [
    "bank.describe()"
   ]
  },
  {
   "cell_type": "code",
   "execution_count": 5,
   "metadata": {},
   "outputs": [
    {
     "data": {
      "text/plain": [
       "1196428'         48779\n",
       "409000362497'    29840\n",
       "409000438620'    13454\n",
       "1196711'         10536\n",
       "409000493210'     6014\n",
       "409000438611'     4588\n",
       "409000611074'     1093\n",
       "409000493201'     1044\n",
       "409000425051'      802\n",
       "409000405747'       51\n",
       "Name: Account No, dtype: int64"
      ]
     },
     "execution_count": 5,
     "metadata": {},
     "output_type": "execute_result"
    }
   ],
   "source": [
    "bank[\"Account No\"].value_counts()"
   ]
  },
  {
   "cell_type": "code",
   "execution_count": 7,
   "metadata": {},
   "outputs": [
    {
     "data": {
      "image/png": "[encoded data removed]",
      "text/plain": [
       "<Figure size 1440x1080 with 4 Axes>"
      ]
     },
     "metadata": {
      "needs_background": "light"
     },
     "output_type": "display_data"
    }
   ],
   "source": [
    "%matplotlib inline\n",
    "import matplotlib.pyplot as plt\n",
    "bank.hist(bins=50, figsize=(20,15))\n",
    "plt.show()"
   ]
  }
 ],
 "metadata": {
  "kernelspec": {
   "display_name": "Python 3",
   "language": "python",
   "name": "python3"
  },
  "language_info": {
   "codemirror_mode": {
    "name": "ipython",
    "version": 3
   },
   "file_extension": ".py",
   "mimetype": "text/x-python",
   "name": "python",
   "nbconvert_exporter": "python",
   "pygments_lexer": "ipython3",
   "version": "3.8.5"
  }
 },
 "nbformat": 4,
 "nbformat_minor": 4
}
