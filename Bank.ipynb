{
 "cells": [
  {
   "cell_type": "markdown",
   "metadata": {},
   "source": [
    "# Data Loading"
   ]
  },
  {
   "cell_type": "code",
   "execution_count": 1,
   "metadata": {},
   "outputs": [],
   "source": [
    "import pandas as pd\n",
    "bank = pd.read_csv(r'C:\\Users\\HP\\Desktop\\Intern\\MISL-Intern\\bank.csv')"
   ]
  },
  {
   "cell_type": "code",
   "execution_count": 2,
   "metadata": {},
   "outputs": [
    {
     "data": {
      "text/html": [
       "<div>\n",
       "<style scoped>\n",
       "    .dataframe tbody tr th:only-of-type {\n",
       "        vertical-align: middle;\n",
       "    }\n",
       "\n",
       "    .dataframe tbody tr th {\n",
       "        vertical-align: top;\n",
       "    }\n",
       "\n",
       "    .dataframe thead th {\n",
       "        text-align: right;\n",
       "    }\n",
       "</style>\n",
       "<table border=\"1\" class=\"dataframe\">\n",
       "  <thead>\n",
       "    <tr style=\"text-align: right;\">\n",
       "      <th></th>\n",
       "      <th>Account No</th>\n",
       "      <th>DATE</th>\n",
       "      <th>TRANSACTION DETAILS</th>\n",
       "      <th>CHQ.NO.</th>\n",
       "      <th>VALUE DATE</th>\n",
       "      <th>WITHDRAWAL AMT</th>\n",
       "      <th>DEPOSIT AMT</th>\n",
       "      <th>BALANCE AMT</th>\n",
       "      <th>.</th>\n",
       "    </tr>\n",
       "  </thead>\n",
       "  <tbody>\n",
       "    <tr>\n",
       "      <th>0</th>\n",
       "      <td>409000611074'</td>\n",
       "      <td>2017-06-29</td>\n",
       "      <td>TRF FROM  Indiaforensic SERVICES</td>\n",
       "      <td>NaN</td>\n",
       "      <td>2017-06-29</td>\n",
       "      <td>NaN</td>\n",
       "      <td>1000000.0</td>\n",
       "      <td>1000000.0</td>\n",
       "      <td>.</td>\n",
       "    </tr>\n",
       "    <tr>\n",
       "      <th>1</th>\n",
       "      <td>409000611074'</td>\n",
       "      <td>2017-07-05</td>\n",
       "      <td>TRF FROM  Indiaforensic SERVICES</td>\n",
       "      <td>NaN</td>\n",
       "      <td>2017-07-05</td>\n",
       "      <td>NaN</td>\n",
       "      <td>1000000.0</td>\n",
       "      <td>2000000.0</td>\n",
       "      <td>.</td>\n",
       "    </tr>\n",
       "    <tr>\n",
       "      <th>2</th>\n",
       "      <td>409000611074'</td>\n",
       "      <td>2017-07-18</td>\n",
       "      <td>FDRL/INTERNAL FUND TRANSFE</td>\n",
       "      <td>NaN</td>\n",
       "      <td>2017-07-18</td>\n",
       "      <td>NaN</td>\n",
       "      <td>500000.0</td>\n",
       "      <td>2500000.0</td>\n",
       "      <td>.</td>\n",
       "    </tr>\n",
       "    <tr>\n",
       "      <th>3</th>\n",
       "      <td>409000611074'</td>\n",
       "      <td>2017-08-01</td>\n",
       "      <td>TRF FRM  Indiaforensic SERVICES</td>\n",
       "      <td>NaN</td>\n",
       "      <td>2017-08-01</td>\n",
       "      <td>NaN</td>\n",
       "      <td>3000000.0</td>\n",
       "      <td>5500000.0</td>\n",
       "      <td>.</td>\n",
       "    </tr>\n",
       "    <tr>\n",
       "      <th>4</th>\n",
       "      <td>409000611074'</td>\n",
       "      <td>2017-08-16</td>\n",
       "      <td>FDRL/INTERNAL FUND TRANSFE</td>\n",
       "      <td>NaN</td>\n",
       "      <td>2017-08-16</td>\n",
       "      <td>NaN</td>\n",
       "      <td>500000.0</td>\n",
       "      <td>6000000.0</td>\n",
       "      <td>.</td>\n",
       "    </tr>\n",
       "  </tbody>\n",
       "</table>\n",
       "</div>"
      ],
      "text/plain": [
       "      Account No        DATE               TRANSACTION DETAILS  CHQ.NO.  \\\n",
       "0  409000611074'  2017-06-29  TRF FROM  Indiaforensic SERVICES      NaN   \n",
       "1  409000611074'  2017-07-05  TRF FROM  Indiaforensic SERVICES      NaN   \n",
       "2  409000611074'  2017-07-18        FDRL/INTERNAL FUND TRANSFE      NaN   \n",
       "3  409000611074'  2017-08-01   TRF FRM  Indiaforensic SERVICES      NaN   \n",
       "4  409000611074'  2017-08-16        FDRL/INTERNAL FUND TRANSFE      NaN   \n",
       "\n",
       "   VALUE DATE  WITHDRAWAL AMT  DEPOSIT AMT  BALANCE AMT  .  \n",
       "0  2017-06-29             NaN    1000000.0    1000000.0  .  \n",
       "1  2017-07-05             NaN    1000000.0    2000000.0  .  \n",
       "2  2017-07-18             NaN     500000.0    2500000.0  .  \n",
       "3  2017-08-01             NaN    3000000.0    5500000.0  .  \n",
       "4  2017-08-16             NaN     500000.0    6000000.0  .  "
      ]
     },
     "execution_count": 2,
     "metadata": {},
     "output_type": "execute_result"
    }
   ],
   "source": [
    "bank.head()"
   ]
  },
  {
   "cell_type": "code",
   "execution_count": 3,
   "metadata": {},
   "outputs": [
    {
     "data": {
      "text/html": [
       "<div>\n",
       "<style scoped>\n",
       "    .dataframe tbody tr th:only-of-type {\n",
       "        vertical-align: middle;\n",
       "    }\n",
       "\n",
       "    .dataframe tbody tr th {\n",
       "        vertical-align: top;\n",
       "    }\n",
       "\n",
       "    .dataframe thead th {\n",
       "        text-align: right;\n",
       "    }\n",
       "</style>\n",
       "<table border=\"1\" class=\"dataframe\">\n",
       "  <thead>\n",
       "    <tr style=\"text-align: right;\">\n",
       "      <th></th>\n",
       "      <th>Account No</th>\n",
       "      <th>DATE</th>\n",
       "      <th>TRANSACTION DETAILS</th>\n",
       "      <th>CHQ.NO.</th>\n",
       "      <th>VALUE DATE</th>\n",
       "      <th>WITHDRAWAL AMT</th>\n",
       "      <th>DEPOSIT AMT</th>\n",
       "      <th>BALANCE AMT</th>\n",
       "      <th>.</th>\n",
       "    </tr>\n",
       "  </thead>\n",
       "  <tbody>\n",
       "    <tr>\n",
       "      <th>116196</th>\n",
       "      <td>409000362497'</td>\n",
       "      <td>2019-03-05</td>\n",
       "      <td>TRF TO 1196428  Indiaforensic SE</td>\n",
       "      <td>NaN</td>\n",
       "      <td>2019-03-05</td>\n",
       "      <td>117934.30</td>\n",
       "      <td>NaN</td>\n",
       "      <td>-1.901902e+09</td>\n",
       "      <td>.</td>\n",
       "    </tr>\n",
       "    <tr>\n",
       "      <th>116197</th>\n",
       "      <td>409000362497'</td>\n",
       "      <td>2019-03-05</td>\n",
       "      <td>FDRL/INTERNAL FUND TRANSFE</td>\n",
       "      <td>NaN</td>\n",
       "      <td>2019-03-05</td>\n",
       "      <td>NaN</td>\n",
       "      <td>300000.0</td>\n",
       "      <td>-1.901602e+09</td>\n",
       "      <td>.</td>\n",
       "    </tr>\n",
       "    <tr>\n",
       "      <th>116198</th>\n",
       "      <td>409000362497'</td>\n",
       "      <td>2019-03-05</td>\n",
       "      <td>FDRL/INTERNAL FUND TRANSFE</td>\n",
       "      <td>NaN</td>\n",
       "      <td>2019-03-05</td>\n",
       "      <td>NaN</td>\n",
       "      <td>300000.0</td>\n",
       "      <td>-1.901302e+09</td>\n",
       "      <td>.</td>\n",
       "    </tr>\n",
       "    <tr>\n",
       "      <th>116199</th>\n",
       "      <td>409000362497'</td>\n",
       "      <td>2019-03-05</td>\n",
       "      <td>IMPS 05-03-20194C</td>\n",
       "      <td>NaN</td>\n",
       "      <td>2019-03-05</td>\n",
       "      <td>109868.65</td>\n",
       "      <td>NaN</td>\n",
       "      <td>-1.901412e+09</td>\n",
       "      <td>.</td>\n",
       "    </tr>\n",
       "    <tr>\n",
       "      <th>116200</th>\n",
       "      <td>409000362497'</td>\n",
       "      <td>2019-03-05</td>\n",
       "      <td>Sweep Trf To: 40900036427</td>\n",
       "      <td>NaN</td>\n",
       "      <td>2019-03-05</td>\n",
       "      <td>5000.00</td>\n",
       "      <td>NaN</td>\n",
       "      <td>-1.901417e+09</td>\n",
       "      <td>.</td>\n",
       "    </tr>\n",
       "  </tbody>\n",
       "</table>\n",
       "</div>"
      ],
      "text/plain": [
       "           Account No        DATE               TRANSACTION DETAILS  CHQ.NO.  \\\n",
       "116196  409000362497'  2019-03-05  TRF TO 1196428  Indiaforensic SE      NaN   \n",
       "116197  409000362497'  2019-03-05        FDRL/INTERNAL FUND TRANSFE      NaN   \n",
       "116198  409000362497'  2019-03-05        FDRL/INTERNAL FUND TRANSFE      NaN   \n",
       "116199  409000362497'  2019-03-05                 IMPS 05-03-20194C      NaN   \n",
       "116200  409000362497'  2019-03-05         Sweep Trf To: 40900036427      NaN   \n",
       "\n",
       "        VALUE DATE  WITHDRAWAL AMT  DEPOSIT AMT   BALANCE AMT  .  \n",
       "116196  2019-03-05       117934.30          NaN -1.901902e+09  .  \n",
       "116197  2019-03-05             NaN     300000.0 -1.901602e+09  .  \n",
       "116198  2019-03-05             NaN     300000.0 -1.901302e+09  .  \n",
       "116199  2019-03-05       109868.65          NaN -1.901412e+09  .  \n",
       "116200  2019-03-05         5000.00          NaN -1.901417e+09  .  "
      ]
     },
     "execution_count": 3,
     "metadata": {},
     "output_type": "execute_result"
    }
   ],
   "source": [
    "bank.tail()"
   ]
  },
  {
   "cell_type": "code",
   "execution_count": 4,
   "metadata": {},
   "outputs": [
    {
     "name": "stdout",
     "output_type": "stream",
     "text": [
      "<class 'pandas.core.frame.DataFrame'>\n",
      "RangeIndex: 116201 entries, 0 to 116200\n",
      "Data columns (total 9 columns):\n",
      " #   Column               Non-Null Count   Dtype  \n",
      "---  ------               --------------   -----  \n",
      " 0   Account No           116201 non-null  object \n",
      " 1   DATE                 116201 non-null  object \n",
      " 2   TRANSACTION DETAILS  113702 non-null  object \n",
      " 3   CHQ.NO.              905 non-null     float64\n",
      " 4   VALUE DATE           116201 non-null  object \n",
      " 5   WITHDRAWAL AMT       53549 non-null   float64\n",
      " 6   DEPOSIT AMT          62652 non-null   float64\n",
      " 7   BALANCE AMT          116201 non-null  float64\n",
      " 8   .                    116201 non-null  object \n",
      "dtypes: float64(4), object(5)\n",
      "memory usage: 8.0+ MB\n"
     ]
    }
   ],
   "source": [
    "bank.info()"
   ]
  },
  {
   "cell_type": "code",
   "execution_count": 5,
   "metadata": {},
   "outputs": [],
   "source": [
    "bank.drop(\".\", axis = 1, inplace = True)"
   ]
  },
  {
   "cell_type": "code",
   "execution_count": 6,
   "metadata": {},
   "outputs": [
    {
     "data": {
      "text/html": [
       "<div>\n",
       "<style scoped>\n",
       "    .dataframe tbody tr th:only-of-type {\n",
       "        vertical-align: middle;\n",
       "    }\n",
       "\n",
       "    .dataframe tbody tr th {\n",
       "        vertical-align: top;\n",
       "    }\n",
       "\n",
       "    .dataframe thead th {\n",
       "        text-align: right;\n",
       "    }\n",
       "</style>\n",
       "<table border=\"1\" class=\"dataframe\">\n",
       "  <thead>\n",
       "    <tr style=\"text-align: right;\">\n",
       "      <th></th>\n",
       "      <th>CHQ.NO.</th>\n",
       "      <th>WITHDRAWAL AMT</th>\n",
       "      <th>DEPOSIT AMT</th>\n",
       "      <th>BALANCE AMT</th>\n",
       "    </tr>\n",
       "  </thead>\n",
       "  <tbody>\n",
       "    <tr>\n",
       "      <th>count</th>\n",
       "      <td>905.000000</td>\n",
       "      <td>5.354900e+04</td>\n",
       "      <td>6.265200e+04</td>\n",
       "      <td>1.162010e+05</td>\n",
       "    </tr>\n",
       "    <tr>\n",
       "      <th>mean</th>\n",
       "      <td>791614.503867</td>\n",
       "      <td>4.489190e+06</td>\n",
       "      <td>3.806586e+06</td>\n",
       "      <td>-1.404852e+09</td>\n",
       "    </tr>\n",
       "    <tr>\n",
       "      <th>std</th>\n",
       "      <td>151205.932910</td>\n",
       "      <td>1.084850e+07</td>\n",
       "      <td>8.683093e+06</td>\n",
       "      <td>5.348202e+08</td>\n",
       "    </tr>\n",
       "    <tr>\n",
       "      <th>min</th>\n",
       "      <td>1.000000</td>\n",
       "      <td>1.000000e-02</td>\n",
       "      <td>1.000000e-02</td>\n",
       "      <td>-2.045201e+09</td>\n",
       "    </tr>\n",
       "    <tr>\n",
       "      <th>25%</th>\n",
       "      <td>704231.000000</td>\n",
       "      <td>3.000000e+03</td>\n",
       "      <td>9.900000e+04</td>\n",
       "      <td>-1.690383e+09</td>\n",
       "    </tr>\n",
       "    <tr>\n",
       "      <th>50%</th>\n",
       "      <td>873812.000000</td>\n",
       "      <td>4.708300e+04</td>\n",
       "      <td>4.265000e+05</td>\n",
       "      <td>-1.661395e+09</td>\n",
       "    </tr>\n",
       "    <tr>\n",
       "      <th>75%</th>\n",
       "      <td>874167.000000</td>\n",
       "      <td>5.000000e+06</td>\n",
       "      <td>4.746411e+06</td>\n",
       "      <td>-1.236888e+09</td>\n",
       "    </tr>\n",
       "    <tr>\n",
       "      <th>max</th>\n",
       "      <td>874525.000000</td>\n",
       "      <td>4.594475e+08</td>\n",
       "      <td>5.448000e+08</td>\n",
       "      <td>8.500000e+06</td>\n",
       "    </tr>\n",
       "  </tbody>\n",
       "</table>\n",
       "</div>"
      ],
      "text/plain": [
       "             CHQ.NO.  WITHDRAWAL AMT   DEPOSIT AMT   BALANCE AMT\n",
       "count     905.000000    5.354900e+04  6.265200e+04  1.162010e+05\n",
       "mean   791614.503867    4.489190e+06  3.806586e+06 -1.404852e+09\n",
       "std    151205.932910    1.084850e+07  8.683093e+06  5.348202e+08\n",
       "min         1.000000    1.000000e-02  1.000000e-02 -2.045201e+09\n",
       "25%    704231.000000    3.000000e+03  9.900000e+04 -1.690383e+09\n",
       "50%    873812.000000    4.708300e+04  4.265000e+05 -1.661395e+09\n",
       "75%    874167.000000    5.000000e+06  4.746411e+06 -1.236888e+09\n",
       "max    874525.000000    4.594475e+08  5.448000e+08  8.500000e+06"
      ]
     },
     "execution_count": 6,
     "metadata": {},
     "output_type": "execute_result"
    }
   ],
   "source": [
    "bank.describe()"
   ]
  },
  {
   "cell_type": "code",
   "execution_count": 7,
   "metadata": {},
   "outputs": [
    {
     "data": {
      "text/plain": [
       "1196428'         48779\n",
       "409000362497'    29840\n",
       "409000438620'    13454\n",
       "1196711'         10536\n",
       "409000493210'     6014\n",
       "409000438611'     4588\n",
       "409000611074'     1093\n",
       "409000493201'     1044\n",
       "409000425051'      802\n",
       "409000405747'       51\n",
       "Name: Account No, dtype: int64"
      ]
     },
     "execution_count": 7,
     "metadata": {},
     "output_type": "execute_result"
    }
   ],
   "source": [
    "bank[\"Account No\"].value_counts()"
   ]
  },
  {
   "cell_type": "code",
   "execution_count": 8,
   "metadata": {},
   "outputs": [
    {
     "data": {
      "text/plain": [
       "FDRL/INTERNAL FUND TRANSFE          8839\n",
       "FDRL/NATIONAL ELECTRONIC F          6262\n",
       "INTERNAL FUND TRANSFER IN           3262\n",
       "TRF TO  Indiaforensic SERVICES I    3082\n",
       "TRF FROM  Indiaforensic SERVICES    2107\n",
       "                                    ... \n",
       "DSB MUTI CSH Indfor 500X1 11           1\n",
       "IMPS  I/W 151015 2C                    1\n",
       "IMPS 807915066939 FROM SE              1\n",
       "CHQ DEP/872921/OWDEL1/SBI              1\n",
       "IMPS OW 04042016 1C                    1\n",
       "Name: TRANSACTION DETAILS, Length: 44806, dtype: int64"
      ]
     },
     "execution_count": 8,
     "metadata": {},
     "output_type": "execute_result"
    }
   ],
   "source": [
    "bank[\"TRANSACTION DETAILS\"].value_counts()"
   ]
  },
  {
   "cell_type": "code",
   "execution_count": 9,
   "metadata": {},
   "outputs": [],
   "source": [
    "#clearing \"Account No \" Column\n",
    "list1 = bank['Account No'].unique()\n",
    "list2=[]\n",
    "for i in list1:\n",
    "    i = i[:-1]\n",
    "    list2.append(i)\n",
    "\n",
    "account_dict = {}\n",
    "\n",
    "for i in list1:\n",
    "    account_dict[i] = i[:-1]\n",
    "\n",
    "bank[\"Account No\"] = bank[\"Account No\"].map(account_dict)"
   ]
  },
  {
   "cell_type": "code",
   "execution_count": 10,
   "metadata": {},
   "outputs": [
    {
     "data": {
      "text/html": [
       "<div>\n",
       "<style scoped>\n",
       "    .dataframe tbody tr th:only-of-type {\n",
       "        vertical-align: middle;\n",
       "    }\n",
       "\n",
       "    .dataframe tbody tr th {\n",
       "        vertical-align: top;\n",
       "    }\n",
       "\n",
       "    .dataframe thead th {\n",
       "        text-align: right;\n",
       "    }\n",
       "</style>\n",
       "<table border=\"1\" class=\"dataframe\">\n",
       "  <thead>\n",
       "    <tr style=\"text-align: right;\">\n",
       "      <th></th>\n",
       "      <th>Account No</th>\n",
       "      <th>DATE</th>\n",
       "      <th>TRANSACTION DETAILS</th>\n",
       "      <th>CHQ.NO.</th>\n",
       "      <th>VALUE DATE</th>\n",
       "      <th>WITHDRAWAL AMT</th>\n",
       "      <th>DEPOSIT AMT</th>\n",
       "      <th>BALANCE AMT</th>\n",
       "    </tr>\n",
       "  </thead>\n",
       "  <tbody>\n",
       "    <tr>\n",
       "      <th>0</th>\n",
       "      <td>409000611074</td>\n",
       "      <td>2017-06-29</td>\n",
       "      <td>TRF FROM  Indiaforensic SERVICES</td>\n",
       "      <td>NaN</td>\n",
       "      <td>2017-06-29</td>\n",
       "      <td>NaN</td>\n",
       "      <td>1000000.0</td>\n",
       "      <td>1000000.0</td>\n",
       "    </tr>\n",
       "    <tr>\n",
       "      <th>1</th>\n",
       "      <td>409000611074</td>\n",
       "      <td>2017-07-05</td>\n",
       "      <td>TRF FROM  Indiaforensic SERVICES</td>\n",
       "      <td>NaN</td>\n",
       "      <td>2017-07-05</td>\n",
       "      <td>NaN</td>\n",
       "      <td>1000000.0</td>\n",
       "      <td>2000000.0</td>\n",
       "    </tr>\n",
       "    <tr>\n",
       "      <th>2</th>\n",
       "      <td>409000611074</td>\n",
       "      <td>2017-07-18</td>\n",
       "      <td>FDRL/INTERNAL FUND TRANSFE</td>\n",
       "      <td>NaN</td>\n",
       "      <td>2017-07-18</td>\n",
       "      <td>NaN</td>\n",
       "      <td>500000.0</td>\n",
       "      <td>2500000.0</td>\n",
       "    </tr>\n",
       "    <tr>\n",
       "      <th>3</th>\n",
       "      <td>409000611074</td>\n",
       "      <td>2017-08-01</td>\n",
       "      <td>TRF FRM  Indiaforensic SERVICES</td>\n",
       "      <td>NaN</td>\n",
       "      <td>2017-08-01</td>\n",
       "      <td>NaN</td>\n",
       "      <td>3000000.0</td>\n",
       "      <td>5500000.0</td>\n",
       "    </tr>\n",
       "    <tr>\n",
       "      <th>4</th>\n",
       "      <td>409000611074</td>\n",
       "      <td>2017-08-16</td>\n",
       "      <td>FDRL/INTERNAL FUND TRANSFE</td>\n",
       "      <td>NaN</td>\n",
       "      <td>2017-08-16</td>\n",
       "      <td>NaN</td>\n",
       "      <td>500000.0</td>\n",
       "      <td>6000000.0</td>\n",
       "    </tr>\n",
       "  </tbody>\n",
       "</table>\n",
       "</div>"
      ],
      "text/plain": [
       "     Account No        DATE               TRANSACTION DETAILS  CHQ.NO.  \\\n",
       "0  409000611074  2017-06-29  TRF FROM  Indiaforensic SERVICES      NaN   \n",
       "1  409000611074  2017-07-05  TRF FROM  Indiaforensic SERVICES      NaN   \n",
       "2  409000611074  2017-07-18        FDRL/INTERNAL FUND TRANSFE      NaN   \n",
       "3  409000611074  2017-08-01   TRF FRM  Indiaforensic SERVICES      NaN   \n",
       "4  409000611074  2017-08-16        FDRL/INTERNAL FUND TRANSFE      NaN   \n",
       "\n",
       "   VALUE DATE  WITHDRAWAL AMT  DEPOSIT AMT  BALANCE AMT  \n",
       "0  2017-06-29             NaN    1000000.0    1000000.0  \n",
       "1  2017-07-05             NaN    1000000.0    2000000.0  \n",
       "2  2017-07-18             NaN     500000.0    2500000.0  \n",
       "3  2017-08-01             NaN    3000000.0    5500000.0  \n",
       "4  2017-08-16             NaN     500000.0    6000000.0  "
      ]
     },
     "execution_count": 10,
     "metadata": {},
     "output_type": "execute_result"
    }
   ],
   "source": [
    "bank.head()"
   ]
  },
  {
   "cell_type": "code",
   "execution_count": 11,
   "metadata": {},
   "outputs": [
    {
     "name": "stdout",
     "output_type": "stream",
     "text": [
      "<class 'pandas.core.frame.DataFrame'>\n",
      "RangeIndex: 116201 entries, 0 to 116200\n",
      "Data columns (total 8 columns):\n",
      " #   Column               Non-Null Count   Dtype  \n",
      "---  ------               --------------   -----  \n",
      " 0   Account No           116201 non-null  object \n",
      " 1   DATE                 116201 non-null  object \n",
      " 2   TRANSACTION DETAILS  113702 non-null  object \n",
      " 3   CHQ.NO.              905 non-null     float64\n",
      " 4   VALUE DATE           116201 non-null  object \n",
      " 5   WITHDRAWAL AMT       53549 non-null   float64\n",
      " 6   DEPOSIT AMT          62652 non-null   float64\n",
      " 7   BALANCE AMT          116201 non-null  float64\n",
      "dtypes: float64(4), object(4)\n",
      "memory usage: 7.1+ MB\n"
     ]
    }
   ],
   "source": [
    "bank.info()"
   ]
  },
  {
   "cell_type": "markdown",
   "metadata": {},
   "source": [
    "# Data Visualization"
   ]
  },
  {
   "cell_type": "code",
   "execution_count": 12,
   "metadata": {},
   "outputs": [
    {
     "data": {
      "image/png": "[encoded data removed]",
      "text/plain": [
       "<Figure size 1440x1080 with 4 Axes>"
      ]
     },
     "metadata": {
      "needs_background": "light"
     },
     "output_type": "display_data"
    }
   ],
   "source": [
    "%matplotlib inline\n",
    "import matplotlib.pyplot as plt\n",
    "bank.hist(bins=50, figsize=(20,15))\n",
    "plt.show()"
   ]
  },
  {
   "cell_type": "code",
   "execution_count": 13,
   "metadata": {},
   "outputs": [
    {
     "data": {
      "text/plain": [
       "<AxesSubplot:>"
      ]
     },
     "execution_count": 13,
     "metadata": {},
     "output_type": "execute_result"
    },
    {
     "data": {
      "image/png": "[encoded data removed]",
      "text/plain": [
       "<Figure size 432x288 with 1 Axes>"
      ]
     },
     "metadata": {
      "needs_background": "light"
     },
     "output_type": "display_data"
    }
   ],
   "source": [
    "bank[\"WITHDRAWAL AMT\"].hist()"
   ]
  },
  {
   "cell_type": "code",
   "execution_count": 14,
   "metadata": {},
   "outputs": [
    {
     "data": {
      "text/plain": [
       "<AxesSubplot:>"
      ]
     },
     "execution_count": 14,
     "metadata": {},
     "output_type": "execute_result"
    },
    {
     "data": {
      "image/png": "[encoded data removed]",
      "text/plain": [
       "<Figure size 432x288 with 1 Axes>"
      ]
     },
     "metadata": {
      "needs_background": "light"
     },
     "output_type": "display_data"
    }
   ],
   "source": [
    "bank[\"DEPOSIT AMT\"].hist()"
   ]
  },
  {
   "cell_type": "code",
   "execution_count": 15,
   "metadata": {},
   "outputs": [
    {
     "data": {
      "text/plain": [
       "<AxesSubplot:>"
      ]
     },
     "execution_count": 15,
     "metadata": {},
     "output_type": "execute_result"
    },
    {
     "data": {
      "image/png": "[encoded data removed]",
      "text/plain": [
       "<Figure size 432x288 with 1 Axes>"
      ]
     },
     "metadata": {
      "needs_background": "light"
     },
     "output_type": "display_data"
    }
   ],
   "source": [
    "bank[\"BALANCE AMT\"].hist()"
   ]
  },
  {
   "cell_type": "markdown",
   "metadata": {},
   "source": [
    "# Create a Test Set (stratifieed sampling)"
   ]
  },
  {
   "cell_type": "code",
   "execution_count": 16,
   "metadata": {},
   "outputs": [
    {
     "name": "stdout",
     "output_type": "stream",
     "text": [
      "train_set: 92960\n",
      "test_set: 23241\n"
     ]
    }
   ],
   "source": [
    "from sklearn.model_selection import train_test_split\n",
    "\n",
    "train_set, test_set = train_test_split(bank, test_size=0.2, random_state=42)\n",
    "print(\"train_set:\",len(train_set))\n",
    "print(\"test_set:\",len(test_set))"
   ]
  },
  {
   "cell_type": "code",
   "execution_count": 17,
   "metadata": {},
   "outputs": [],
   "source": [
    "from sklearn.model_selection import StratifiedShuffleSplit\n",
    "\n",
    "split = StratifiedShuffleSplit(n_splits=1, test_size=0.2, random_state=42)\n",
    "for train_index, test_index in split.split(bank, bank[\"Account No\"]):\n",
    "    strat_train_set = bank.loc[train_index]\n",
    "    strat_test_set = bank.loc[test_index]"
   ]
  },
  {
   "cell_type": "code",
   "execution_count": 18,
   "metadata": {},
   "outputs": [
    {
     "data": {
      "text/plain": [
       "1196428         0.419775\n",
       "409000362497    0.256788\n",
       "409000438620    0.115787\n",
       "1196711         0.090659\n",
       "409000493210    0.051762\n",
       "409000438611    0.039499\n",
       "409000611074    0.009423\n",
       "409000493201    0.008993\n",
       "409000425051    0.006884\n",
       "409000405747    0.000430\n",
       "Name: Account No, dtype: float64"
      ]
     },
     "execution_count": 18,
     "metadata": {},
     "output_type": "execute_result"
    }
   ],
   "source": [
    "strat_test_set[\"Account No\"].value_counts() / len(strat_test_set)"
   ]
  },
  {
   "cell_type": "code",
   "execution_count": 19,
   "metadata": {},
   "outputs": [
    {
     "data": {
      "text/plain": [
       "1196428         0.419781\n",
       "409000362497    0.256796\n",
       "409000438620    0.115782\n",
       "1196711         0.090670\n",
       "409000493210    0.051755\n",
       "409000438611    0.039483\n",
       "409000611074    0.009406\n",
       "409000493201    0.008984\n",
       "409000425051    0.006902\n",
       "409000405747    0.000439\n",
       "Name: Account No, dtype: float64"
      ]
     },
     "execution_count": 19,
     "metadata": {},
     "output_type": "execute_result"
    }
   ],
   "source": [
    "bank[\"Account No\"].value_counts() / len(bank)"
   ]
  },
  {
   "cell_type": "code",
   "execution_count": 20,
   "metadata": {},
   "outputs": [
    {
     "data": {
      "text/html": [
       "<div>\n",
       "<style scoped>\n",
       "    .dataframe tbody tr th:only-of-type {\n",
       "        vertical-align: middle;\n",
       "    }\n",
       "\n",
       "    .dataframe tbody tr th {\n",
       "        vertical-align: top;\n",
       "    }\n",
       "\n",
       "    .dataframe thead th {\n",
       "        text-align: right;\n",
       "    }\n",
       "</style>\n",
       "<table border=\"1\" class=\"dataframe\">\n",
       "  <thead>\n",
       "    <tr style=\"text-align: right;\">\n",
       "      <th></th>\n",
       "      <th>Overall</th>\n",
       "      <th>Stratified</th>\n",
       "      <th>Random</th>\n",
       "      <th>Rand. %error</th>\n",
       "      <th>Strat. %error</th>\n",
       "    </tr>\n",
       "  </thead>\n",
       "  <tbody>\n",
       "    <tr>\n",
       "      <th>1196428</th>\n",
       "      <td>0.419781</td>\n",
       "      <td>0.419775</td>\n",
       "      <td>0.422873</td>\n",
       "      <td>0.736605</td>\n",
       "      <td>-0.001392</td>\n",
       "    </tr>\n",
       "    <tr>\n",
       "      <th>1196711</th>\n",
       "      <td>0.090670</td>\n",
       "      <td>0.090659</td>\n",
       "      <td>0.092724</td>\n",
       "      <td>2.264893</td>\n",
       "      <td>-0.012933</td>\n",
       "    </tr>\n",
       "    <tr>\n",
       "      <th>409000362497</th>\n",
       "      <td>0.256796</td>\n",
       "      <td>0.256788</td>\n",
       "      <td>0.251624</td>\n",
       "      <td>-2.014097</td>\n",
       "      <td>-0.003442</td>\n",
       "    </tr>\n",
       "    <tr>\n",
       "      <th>409000405747</th>\n",
       "      <td>0.000439</td>\n",
       "      <td>0.000430</td>\n",
       "      <td>0.000344</td>\n",
       "      <td>-21.571327</td>\n",
       "      <td>-1.964159</td>\n",
       "    </tr>\n",
       "    <tr>\n",
       "      <th>409000425051</th>\n",
       "      <td>0.006902</td>\n",
       "      <td>0.006884</td>\n",
       "      <td>0.007788</td>\n",
       "      <td>12.839008</td>\n",
       "      <td>-0.252810</td>\n",
       "    </tr>\n",
       "    <tr>\n",
       "      <th>409000438611</th>\n",
       "      <td>0.039483</td>\n",
       "      <td>0.039499</td>\n",
       "      <td>0.039800</td>\n",
       "      <td>0.802982</td>\n",
       "      <td>0.040148</td>\n",
       "    </tr>\n",
       "    <tr>\n",
       "      <th>409000438620</th>\n",
       "      <td>0.115782</td>\n",
       "      <td>0.115787</td>\n",
       "      <td>0.114797</td>\n",
       "      <td>-0.850745</td>\n",
       "      <td>0.003990</td>\n",
       "    </tr>\n",
       "    <tr>\n",
       "      <th>409000493201</th>\n",
       "      <td>0.008984</td>\n",
       "      <td>0.008993</td>\n",
       "      <td>0.008735</td>\n",
       "      <td>-2.781124</td>\n",
       "      <td>0.092340</td>\n",
       "    </tr>\n",
       "    <tr>\n",
       "      <th>409000493210</th>\n",
       "      <td>0.051755</td>\n",
       "      <td>0.051762</td>\n",
       "      <td>0.051461</td>\n",
       "      <td>-0.568770</td>\n",
       "      <td>0.013185</td>\n",
       "    </tr>\n",
       "    <tr>\n",
       "      <th>409000611074</th>\n",
       "      <td>0.009406</td>\n",
       "      <td>0.009423</td>\n",
       "      <td>0.009853</td>\n",
       "      <td>4.753942</td>\n",
       "      <td>0.179534</td>\n",
       "    </tr>\n",
       "  </tbody>\n",
       "</table>\n",
       "</div>"
      ],
      "text/plain": [
       "               Overall  Stratified    Random  Rand. %error  Strat. %error\n",
       "1196428       0.419781    0.419775  0.422873      0.736605      -0.001392\n",
       "1196711       0.090670    0.090659  0.092724      2.264893      -0.012933\n",
       "409000362497  0.256796    0.256788  0.251624     -2.014097      -0.003442\n",
       "409000405747  0.000439    0.000430  0.000344    -21.571327      -1.964159\n",
       "409000425051  0.006902    0.006884  0.007788     12.839008      -0.252810\n",
       "409000438611  0.039483    0.039499  0.039800      0.802982       0.040148\n",
       "409000438620  0.115782    0.115787  0.114797     -0.850745       0.003990\n",
       "409000493201  0.008984    0.008993  0.008735     -2.781124       0.092340\n",
       "409000493210  0.051755    0.051762  0.051461     -0.568770       0.013185\n",
       "409000611074  0.009406    0.009423  0.009853      4.753942       0.179534"
      ]
     },
     "execution_count": 20,
     "metadata": {},
     "output_type": "execute_result"
    }
   ],
   "source": [
    "def account_no_cat_proportions(data):\n",
    "    return data[\"Account No\"].value_counts() / len(data)\n",
    "\n",
    "train_set, test_set = train_test_split(bank, test_size=0.2, random_state=42)\n",
    "\n",
    "compare_props = pd.DataFrame({\n",
    "    \"Overall\": account_no_cat_proportions(bank),\n",
    "    \"Stratified\": account_no_cat_proportions(strat_test_set),\n",
    "    \"Random\": account_no_cat_proportions(test_set),\n",
    "}).sort_index()\n",
    "compare_props[\"Rand. %error\"] = 100 * compare_props[\"Random\"] / compare_props[\"Overall\"] - 100\n",
    "compare_props[\"Strat. %error\"] = 100 * compare_props[\"Stratified\"] / compare_props[\"Overall\"] - 100\n",
    "compare_props"
   ]
  },
  {
   "cell_type": "markdown",
   "metadata": {},
   "source": [
    "# Visualize the Data to Gain Insights"
   ]
  },
  {
   "cell_type": "code",
   "execution_count": 21,
   "metadata": {},
   "outputs": [],
   "source": [
    "bank = strat_train_set.copy()"
   ]
  },
  {
   "cell_type": "code",
   "execution_count": 22,
   "metadata": {},
   "outputs": [],
   "source": [
    "corr_matrix = bank.corr()"
   ]
  },
  {
   "cell_type": "code",
   "execution_count": 23,
   "metadata": {},
   "outputs": [
    {
     "data": {
      "text/plain": [
       "BALANCE AMT       1.000000\n",
       "DEPOSIT AMT      -0.054326\n",
       "WITHDRAWAL AMT   -0.151802\n",
       "CHQ.NO.          -0.355844\n",
       "Name: BALANCE AMT, dtype: float64"
      ]
     },
     "execution_count": 23,
     "metadata": {},
     "output_type": "execute_result"
    }
   ],
   "source": [
    "corr_matrix[\"BALANCE AMT\"].sort_values(ascending=False)"
   ]
  },
  {
   "cell_type": "code",
   "execution_count": 24,
   "metadata": {},
   "outputs": [
    {
     "data": {
      "text/html": [
       "<div>\n",
       "<style scoped>\n",
       "    .dataframe tbody tr th:only-of-type {\n",
       "        vertical-align: middle;\n",
       "    }\n",
       "\n",
       "    .dataframe tbody tr th {\n",
       "        vertical-align: top;\n",
       "    }\n",
       "\n",
       "    .dataframe thead th {\n",
       "        text-align: right;\n",
       "    }\n",
       "</style>\n",
       "<table border=\"1\" class=\"dataframe\">\n",
       "  <thead>\n",
       "    <tr style=\"text-align: right;\">\n",
       "      <th></th>\n",
       "      <th>Account No</th>\n",
       "      <th>DATE</th>\n",
       "      <th>TRANSACTION DETAILS</th>\n",
       "      <th>CHQ.NO.</th>\n",
       "      <th>VALUE DATE</th>\n",
       "      <th>WITHDRAWAL AMT</th>\n",
       "      <th>DEPOSIT AMT</th>\n",
       "      <th>BALANCE AMT</th>\n",
       "    </tr>\n",
       "  </thead>\n",
       "  <tbody>\n",
       "    <tr>\n",
       "      <th>15767</th>\n",
       "      <td>409000438620</td>\n",
       "      <td>2017-06-02</td>\n",
       "      <td>Indiaforensic AEPS NPCI DEP SET</td>\n",
       "      <td>NaN</td>\n",
       "      <td>2017-06-02</td>\n",
       "      <td>11887345.0</td>\n",
       "      <td>0.0</td>\n",
       "      <td>-5.399394e+08</td>\n",
       "    </tr>\n",
       "    <tr>\n",
       "      <th>55443</th>\n",
       "      <td>1196428</td>\n",
       "      <td>2016-09-22</td>\n",
       "      <td>NEFT/SBIN916266236866/Indfor</td>\n",
       "      <td>NaN</td>\n",
       "      <td>2016-09-22</td>\n",
       "      <td>0.0</td>\n",
       "      <td>10000000.0</td>\n",
       "      <td>-1.606189e+09</td>\n",
       "    </tr>\n",
       "    <tr>\n",
       "      <th>19410</th>\n",
       "      <td>409000438620</td>\n",
       "      <td>2017-12-28</td>\n",
       "      <td>CR734517792834/RMCPL16735/1</td>\n",
       "      <td>NaN</td>\n",
       "      <td>2017-12-28</td>\n",
       "      <td>3000.0</td>\n",
       "      <td>0.0</td>\n",
       "      <td>-5.354801e+08</td>\n",
       "    </tr>\n",
       "    <tr>\n",
       "      <th>14072</th>\n",
       "      <td>409000438620</td>\n",
       "      <td>2016-10-14</td>\n",
       "      <td>Indiaforensic AEPS NPCI WDL SET</td>\n",
       "      <td>NaN</td>\n",
       "      <td>2016-10-14</td>\n",
       "      <td>0.0</td>\n",
       "      <td>405177.0</td>\n",
       "      <td>-5.450281e+08</td>\n",
       "    </tr>\n",
       "    <tr>\n",
       "      <th>7229</th>\n",
       "      <td>409000438611</td>\n",
       "      <td>2019-01-28</td>\n",
       "      <td>FDRL/INTERNAL FUND TRANSFE</td>\n",
       "      <td>NaN</td>\n",
       "      <td>2019-01-28</td>\n",
       "      <td>5000000.0</td>\n",
       "      <td>0.0</td>\n",
       "      <td>-5.418835e+08</td>\n",
       "    </tr>\n",
       "  </tbody>\n",
       "</table>\n",
       "</div>"
      ],
      "text/plain": [
       "         Account No        DATE              TRANSACTION DETAILS  CHQ.NO.  \\\n",
       "15767  409000438620  2017-06-02  Indiaforensic AEPS NPCI DEP SET      NaN   \n",
       "55443       1196428  2016-09-22     NEFT/SBIN916266236866/Indfor      NaN   \n",
       "19410  409000438620  2017-12-28      CR734517792834/RMCPL16735/1      NaN   \n",
       "14072  409000438620  2016-10-14  Indiaforensic AEPS NPCI WDL SET      NaN   \n",
       "7229   409000438611  2019-01-28       FDRL/INTERNAL FUND TRANSFE      NaN   \n",
       "\n",
       "       VALUE DATE  WITHDRAWAL AMT  DEPOSIT AMT   BALANCE AMT  \n",
       "15767  2017-06-02      11887345.0          0.0 -5.399394e+08  \n",
       "55443  2016-09-22             0.0   10000000.0 -1.606189e+09  \n",
       "19410  2017-12-28          3000.0          0.0 -5.354801e+08  \n",
       "14072  2016-10-14             0.0     405177.0 -5.450281e+08  \n",
       "7229   2019-01-28       5000000.0          0.0 -5.418835e+08  "
      ]
     },
     "execution_count": 24,
     "metadata": {},
     "output_type": "execute_result"
    }
   ],
   "source": [
    "bank['DEPOSIT AMT'].fillna(0,inplace=True)\n",
    "bank['WITHDRAWAL AMT'].fillna(0,inplace=True)\n",
    "bank.head()"
   ]
  },
  {
   "cell_type": "code",
   "execution_count": 25,
   "metadata": {},
   "outputs": [],
   "source": [
    "bank_2 = strat_train_set.copy()"
   ]
  },
  {
   "cell_type": "code",
   "execution_count": 26,
   "metadata": {},
   "outputs": [
    {
     "data": {
      "image/png": "[encoded data removed]",
      "text/plain": [
       "<Figure size 720x936 with 1 Axes>"
      ]
     },
     "metadata": {},
     "output_type": "display_data"
    }
   ],
   "source": [
    "import seaborn as sns\n",
    "\n",
    "sns.set(style=\"whitegrid\")\n",
    "\n",
    "fig=plt.figure(figsize=(10,13))\n",
    "ax1 = fig.add_subplot(211)\n",
    "\n",
    "\n",
    "g= sns.barplot(x='WITHDRAWAL AMT',y='Account No', data=bank, palette='Set2',ax=ax1)\n",
    "g.set_xscale('log')\n",
    "\n",
    "\n",
    "plt.show()"
   ]
  },
  {
   "cell_type": "code",
   "execution_count": 27,
   "metadata": {},
   "outputs": [
    {
     "data": {
      "image/png": "[encoded data removed]",
      "text/plain": [
       "<Figure size 720x936 with 1 Axes>"
      ]
     },
     "metadata": {},
     "output_type": "display_data"
    }
   ],
   "source": [
    "sns.set(style=\"whitegrid\")\n",
    "\n",
    "fig=plt.figure(figsize=(10,13))\n",
    "ax1 = fig.add_subplot(211)\n",
    "\n",
    "\n",
    "g= sns.barplot(x='DEPOSIT AMT',y='Account No', data=bank, palette='Set2',ax=ax1)\n",
    "g.set_xscale('log')\n",
    "\n",
    "\n",
    "plt.show()"
   ]
  },
  {
   "cell_type": "code",
   "execution_count": 29,
   "metadata": {},
   "outputs": [
    {
     "data": {
      "image/png": "[encoded data removed]",
      "text/plain": [
       "<Figure size 576x396 with 1 Axes>"
      ]
     },
     "metadata": {},
     "output_type": "display_data"
    }
   ],
   "source": [
    "import matplotlib.dates as mpl_dates\n",
    "plt.style.use('seaborn')\n",
    "bank[\"DATE\"] = pd.to_datetime(bank['DATE'])\n",
    "bank.sort_values('DATE', inplace = True)\n",
    "\n",
    "plt.plot_date(bank[\"DATE\"], bank[\"DEPOSIT AMT\"], linestyle =  'solid')\n",
    "plt.gcf().autofmt_xdate()\n",
    "plt.tight_layout()\n",
    "plt.show()"
   ]
  },
  {
   "cell_type": "code",
   "execution_count": 33,
   "metadata": {},
   "outputs": [
    {
     "data": {
      "text/plain": [
       "array([[<AxesSubplot:xlabel='DEPOSIT AMT', ylabel='DEPOSIT AMT'>,\n",
       "        <AxesSubplot:xlabel='WITHDRAWAL AMT', ylabel='DEPOSIT AMT'>,\n",
       "        <AxesSubplot:xlabel='BALANCE AMT', ylabel='DEPOSIT AMT'>],\n",
       "       [<AxesSubplot:xlabel='DEPOSIT AMT', ylabel='WITHDRAWAL AMT'>,\n",
       "        <AxesSubplot:xlabel='WITHDRAWAL AMT', ylabel='WITHDRAWAL AMT'>,\n",
       "        <AxesSubplot:xlabel='BALANCE AMT', ylabel='WITHDRAWAL AMT'>],\n",
       "       [<AxesSubplot:xlabel='DEPOSIT AMT', ylabel='BALANCE AMT'>,\n",
       "        <AxesSubplot:xlabel='WITHDRAWAL AMT', ylabel='BALANCE AMT'>,\n",
       "        <AxesSubplot:xlabel='BALANCE AMT', ylabel='BALANCE AMT'>]],\n",
       "      dtype=object)"
      ]
     },
     "execution_count": 33,
     "metadata": {},
     "output_type": "execute_result"
    },
    {
     "data": {
      "image/png": "[encoded data removed]",
      "text/plain": [
       "<Figure size 864x576 with 9 Axes>"
      ]
     },
     "metadata": {},
     "output_type": "display_data"
    }
   ],
   "source": [
    "#correlation matrix\n",
    "from pandas.plotting import scatter_matrix\n",
    "attributes = [\"Account No\", \"DEPOSIT AMT\", \"WITHDRAWAL AMT\",\n",
    " \"BALANCE AMT\"]\n",
    "scatter_matrix(bank[attributes], figsize=(12, 8))\n"
   ]
  }
 ],
 "metadata": {
  "kernelspec": {
   "display_name": "Python 3",
   "language": "python",
   "name": "python3"
  },
  "language_info": {
   "codemirror_mode": {
    "name": "ipython",
    "version": 3
   },
   "file_extension": ".py",
   "mimetype": "text/x-python",
   "name": "python",
   "nbconvert_exporter": "python",
   "pygments_lexer": "ipython3",
   "version": "3.8.5"
  }
 },
 "nbformat": 4,
 "nbformat_minor": 4
}
